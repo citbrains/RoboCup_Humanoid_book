{
 "cells": [
  {
   "cell_type": "code",
   "execution_count": null,
   "metadata": {
    "scrolled": false
   },
   "outputs": [],
   "source": [
    "import numpy as np\n",
    "import cv2\n",
    "import glob\n",
    "import matplotlib.pyplot as plt"
   ]
  },
  {
   "cell_type": "code",
   "execution_count": null,
   "metadata": {},
   "outputs": [],
   "source": [
    "class ChessBoard:\n",
    "    def __init__(self,cols,rows,size):\n",
    "        self.cols = cols-1\n",
    "        self.rows = rows-1\n",
    "        self.size = size\n",
    "        self.objPoints()\n",
    "    def objPoints(self):\n",
    "        c = self.cols\n",
    "        r = self.rows\n",
    "        dim =3\n",
    "        self.obj_p = np.zeros((c*r,dim),np.float32)\n",
    "        self.obj_p[:,:2] = np.mgrid[0:c,0:r].T.reshape(-1,2)\n",
    "        self.obj_p = self.obj_p * self.size\n",
    "        \n",
    "# チェッカーボードの大きさを設定\n",
    "board = ChessBoard(10,7,24.0)\n",
    "print('BOARD_INFO')\n",
    "print('|- CORNER_COLS :',board.cols)\n",
    "print('|- CORNER_ROWS :',board.rows)\n",
    "print('|- PATTERN_SIZE:',board.size)\n",
    "# print(board.obj_p)"
   ]
  },
  {
   "cell_type": "code",
   "execution_count": null,
   "metadata": {
    "scrolled": true
   },
   "outputs": [],
   "source": [
    "# read images (recommend 10~15 images)\n",
    "im_w = 640\n",
    "im_h = 480\n",
    "Images = np.empty((0,im_h,im_w,3),dtype=np.uint8)\n",
    "imgs_name = glob.glob('sample_images/*.png')\n",
    "imgs_num = len(imgs_name)\n",
    "for i in imgs_name:\n",
    "    img = cv2.imread(i)\n",
    "    if(img is None):\n",
    "        print('imread failed:', i)\n",
    "        continue\n",
    "    print(i)\n",
    "    '''\n",
    "    img_rgb = cv2.cvtColor(img,cv2.COLOR_BGR2RGB)\n",
    "    plt.imshow(img_rgb)\n",
    "    plt.show()\n",
    "    '''\n",
    "    img = np.expand_dims(img,axis=0)\n",
    "    Images = np.vstack((Images,img))\n",
    "imgs__num = len(Images)\n",
    "print(imgs_num,'IMAGES')"
   ]
  },
  {
   "cell_type": "code",
   "execution_count": null,
   "metadata": {
    "scrolled": false
   },
   "outputs": [],
   "source": [
    "# detect chessboard corners\n",
    "criteria = (cv2.TERM_CRITERIA_EPS + cv2.TERM_CRITERIA_MAX_ITER, 30, 0.001)\n",
    "ImgPoints = []\n",
    "ObjPoints = []\n",
    "for i in range(len(Images)):\n",
    "    img = Images[i].copy()\n",
    "    img_gray = cv2.cvtColor(img,cv2.COLOR_BGR2GRAY)\n",
    "    ret, corners = cv2.findChessboardCorners(img_gray,(board.cols,board.rows))\n",
    "    if ret:\n",
    "        corners2 = cv2.cornerSubPix(img_gray,corners,(11,11),(-1,-1),criteria)\n",
    "        img_rgb = cv2.cvtColor(img,cv2.COLOR_BGR2RGB)\n",
    "        cv2.drawChessboardCorners(img_rgb, (board.cols,board.rows), corners2[0], ret)\n",
    "        plt.imshow(img_rgb)\n",
    "        plt.show()\n",
    "        ImgPoints.append(corners2)\n",
    "        ObjPoints.append(board.obj_p)\n",
    "    else:\n",
    "        print('corners detection failed.')\n",
    "print('ImgPoints',len(ImgPoints))\n",
    "print('ObjPoints',len(ObjPoints))"
   ]
  },
  {
   "cell_type": "code",
   "execution_count": null,
   "metadata": {},
   "outputs": [],
   "source": [
    "# calibrate\n",
    "ret, mtx, dist, rvecs, tvecs = cv2.calibrateCamera(ObjPoints, ImgPoints,(im_h,im_w),None,None,None,None,cv2.CALIB_RATIONAL_MODEL)"
   ]
  },
  {
   "cell_type": "code",
   "execution_count": null,
   "metadata": {},
   "outputs": [],
   "source": [
    "print(mtx)\n",
    "print(dist)"
   ]
  },
  {
   "cell_type": "code",
   "execution_count": null,
   "metadata": {},
   "outputs": [],
   "source": [
    "fx = mtx[0,0]/im_w\n",
    "fy = mtx[1,1]/im_h\n",
    "cx = mtx[0,2]/im_w\n",
    "cy = mtx[1,2]/im_h\n",
    "k0 = dist[0,0]\n",
    "k1 = dist[0,1]\n",
    "k2 = dist[0,2]\n",
    "k3 = dist[0,3]\n",
    "k4 = dist[0,4]\n",
    "k5 = dist[0,5]\n",
    "k6 = dist[0,6]\n",
    "k7 = dist[0,7]\n",
    "\n",
    "print('fx {:.7f}'.format(fx))\n",
    "print('fy {:.7f}'.format(fy))\n",
    "print('cx {:.7f}'.format(cx))\n",
    "print('cy {:.7f}'.format(cy))\n",
    "print('k0 {:.7f}'.format(k0))\n",
    "print('k1 {:.7f}'.format(k1))\n",
    "print('k2 {:.7f}'.format(k2))\n",
    "print('k3 {:.7f}'.format(k3))\n",
    "print('k4 {:.7f}'.format(k4))\n",
    "print('k5 {:.7f}'.format(k5))\n",
    "print('k6 {:.7f}'.format(k6))\n",
    "print('k7 {:.7f}'.format(k7))"
   ]
  },
  {
   "cell_type": "code",
   "execution_count": null,
   "metadata": {},
   "outputs": [],
   "source": [
    "rand = np.random.randint(imgs_num)\n",
    "img = Images[1].copy()\n",
    "img_und = cv2.undistort(img,mtx,dist)\n",
    "img_rgb = cv2.cvtColor(img,cv2.COLOR_BGR2RGB)\n",
    "img_und_rgb = cv2.cvtColor(img_und,cv2.COLOR_BGR2RGB)\n",
    "plt.imshow(img_rgb)\n",
    "plt.show()\n",
    "plt.imshow(img_und_rgb)\n",
    "plt.show()"
   ]
  },
  {
   "cell_type": "code",
   "execution_count": null,
   "metadata": {},
   "outputs": [],
   "source": []
  }
 ],
 "metadata": {
  "kernelspec": {
   "display_name": "Python 3 (ipykernel)",
   "language": "python",
   "name": "python3"
  },
  "language_info": {
   "codemirror_mode": {
    "name": "ipython",
    "version": 3
   },
   "file_extension": ".py",
   "mimetype": "text/x-python",
   "name": "python",
   "nbconvert_exporter": "python",
   "pygments_lexer": "ipython3",
   "version": "3.10.5"
  }
 },
 "nbformat": 4,
 "nbformat_minor": 2
}
